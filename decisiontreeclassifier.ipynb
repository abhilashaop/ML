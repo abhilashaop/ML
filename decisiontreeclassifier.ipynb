{
  "nbformat": 4,
  "nbformat_minor": 0,
  "metadata": {
    "colab": {
      "name": "decisiontreeclassifier.ipynb",
      "provenance": [],
      "collapsed_sections": [],
      "include_colab_link": true
    },
    "kernelspec": {
      "name": "python3",
      "display_name": "Python 3"
    }
  },
  "cells": [
    {
      "cell_type": "markdown",
      "metadata": {
        "id": "view-in-github",
        "colab_type": "text"
      },
      "source": [
        "<a href=\"https://colab.research.google.com/github/abhilashaop/ML/blob/master/decisiontreeclassifier.ipynb\" target=\"_parent\"><img src=\"https://colab.research.google.com/assets/colab-badge.svg\" alt=\"Open In Colab\"/></a>"
      ]
    },
    {
      "cell_type": "code",
      "metadata": {
        "id": "y8SQ3eL1A6MS",
        "colab_type": "code",
        "colab": {}
      },
      "source": [
        "# for loading the wine dataset \n",
        "from sklearn.datasets import load_wine\n",
        "# for spliting the data set into train and test\n",
        "from sklearn.model_selection import train_test_split\n",
        "# for making use of Decision Tree CLassifier\n",
        "from sklearn.tree import DecisionTreeClassifier"
      ],
      "execution_count": 0,
      "outputs": []
    },
    {
      "cell_type": "code",
      "metadata": {
        "id": "jocwNop3CHMu",
        "colab_type": "code",
        "colab": {}
      },
      "source": [
        "#calling the load_wine funcion and storing it into a variable say sett\n",
        "sett = load_wine()"
      ],
      "execution_count": 0,
      "outputs": []
    },
    {
      "cell_type": "code",
      "metadata": {
        "id": "ww7oGty8DLXp",
        "colab_type": "code",
        "colab": {
          "base_uri": "https://localhost:8080/",
          "height": 34
        },
        "outputId": "637604b6-8d55-43e1-cf71-08fb11f447de"
      },
      "source": [
        "#for listing all the column names \n",
        "dir(sett)"
      ],
      "execution_count": 56,
      "outputs": [
        {
          "output_type": "execute_result",
          "data": {
            "text/plain": [
              "['DESCR', 'data', 'feature_names', 'target', 'target_names']"
            ]
          },
          "metadata": {
            "tags": []
          },
          "execution_count": 56
        }
      ]
    },
    {
      "cell_type": "code",
      "metadata": {
        "id": "d5CXnTIVItVb",
        "colab_type": "code",
        "colab": {}
      },
      "source": [
        "# storing the data of the wine in features and the type of wine it is in labels\n",
        "features = sett.data\n",
        "labels = sett.target"
      ],
      "execution_count": 0,
      "outputs": []
    },
    {
      "cell_type": "code",
      "metadata": {
        "id": "xMDlG5hcJYjy",
        "colab_type": "code",
        "colab": {}
      },
      "source": [
        "# dividing the data into train and test \n",
        "X,x,Y,y = train_test_split(features,labels,test_size = 0.2)"
      ],
      "execution_count": 0,
      "outputs": []
    },
    {
      "cell_type": "code",
      "metadata": {
        "id": "vT5i5FPuJts2",
        "colab_type": "code",
        "colab": {}
      },
      "source": [
        "# calling the Decision Tree classifier and storing it into a variable say dc\n",
        "dc = DecisionTreeClassifier()"
      ],
      "execution_count": 0,
      "outputs": []
    },
    {
      "cell_type": "code",
      "metadata": {
        "id": "HBOcoYJ9JyWm",
        "colab_type": "code",
        "colab": {}
      },
      "source": [
        "# fitiing  / training the algorithm\n",
        "dc_train = dc.fit(X,Y)"
      ],
      "execution_count": 0,
      "outputs": []
    },
    {
      "cell_type": "code",
      "metadata": {
        "id": "uIIlmMU2J4rQ",
        "colab_type": "code",
        "colab": {}
      },
      "source": [
        "# To test the algotrithm\n",
        "dc_test = dc.predict(x)"
      ],
      "execution_count": 0,
      "outputs": []
    },
    {
      "cell_type": "code",
      "metadata": {
        "id": "dtbQCK3eKH5O",
        "colab_type": "code",
        "colab": {}
      },
      "source": [
        "# importing for chrecking the accuracy of the algorithm\n",
        "from sklearn.metrics import accuracy_score"
      ],
      "execution_count": 0,
      "outputs": []
    },
    {
      "cell_type": "code",
      "metadata": {
        "id": "QvU1P2ecKJgw",
        "colab_type": "code",
        "colab": {
          "base_uri": "https://localhost:8080/",
          "height": 34
        },
        "outputId": "c4996575-69e1-48e1-d913-5462a5704a5b"
      },
      "source": [
        "# calling the function\n",
        "accuracy_score(y,dc_test)"
      ],
      "execution_count": 63,
      "outputs": [
        {
          "output_type": "execute_result",
          "data": {
            "text/plain": [
              "0.4166666666666667"
            ]
          },
          "metadata": {
            "tags": []
          },
          "execution_count": 63
        }
      ]
    },
    {
      "cell_type": "code",
      "metadata": {
        "id": "-GCLoiACKlic",
        "colab_type": "code",
        "colab": {}
      },
      "source": [
        "#fo4 checking how many out oh how many were predicted right\n",
        "from sklearn.metrics import confusion_matrix"
      ],
      "execution_count": 0,
      "outputs": []
    },
    {
      "cell_type": "code",
      "metadata": {
        "id": "yq7HOFNWLLHf",
        "colab_type": "code",
        "colab": {
          "base_uri": "https://localhost:8080/",
          "height": 69
        },
        "outputId": "0416435c-5810-4ccd-901a-fbce69118c59"
      },
      "source": [
        "#calling the function\n",
        "confusion_matrix(y,dc_test)"
      ],
      "execution_count": 65,
      "outputs": [
        {
          "output_type": "execute_result",
          "data": {
            "text/plain": [
              "array([[7, 2, 5],\n",
              "       [4, 5, 4],\n",
              "       [1, 5, 3]])"
            ]
          },
          "metadata": {
            "tags": []
          },
          "execution_count": 65
        }
      ]
    },
    {
      "cell_type": "code",
      "metadata": {
        "id": "DlkT2dvdLUTp",
        "colab_type": "code",
        "colab": {}
      },
      "source": [
        ""
      ],
      "execution_count": 0,
      "outputs": []
    }
  ]
}