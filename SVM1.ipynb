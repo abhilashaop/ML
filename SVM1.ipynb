{
  "nbformat": 4,
  "nbformat_minor": 0,
  "metadata": {
    "colab": {
      "name": "SVM1.ipynb",
      "provenance": [],
      "collapsed_sections": [],
      "include_colab_link": true
    },
    "kernelspec": {
      "name": "python3",
      "display_name": "Python 3"
    }
  },
  "cells": [
    {
      "cell_type": "markdown",
      "metadata": {
        "id": "view-in-github",
        "colab_type": "text"
      },
      "source": [
        "<a href=\"https://colab.research.google.com/github/abhilashaop/ML/blob/master/SVM1.ipynb\" target=\"_parent\"><img src=\"https://colab.research.google.com/assets/colab-badge.svg\" alt=\"Open In Colab\"/></a>"
      ]
    },
    {
      "cell_type": "code",
      "metadata": {
        "id": "5X4-mxa77u30",
        "colab_type": "code",
        "colab": {}
      },
      "source": [
        "# importing data for running the algorithm\n",
        "from sklearn.datasets import load_iris"
      ],
      "execution_count": 0,
      "outputs": []
    },
    {
      "cell_type": "code",
      "metadata": {
        "id": "fUru57NW71uJ",
        "colab_type": "code",
        "colab": {}
      },
      "source": [
        "# calling the function and storing it in a variable say sv\n",
        " svm_data = load_iris()"
      ],
      "execution_count": 0,
      "outputs": []
    },
    {
      "cell_type": "code",
      "metadata": {
        "id": "9eLue5Ai_sj2",
        "colab_type": "code",
        "outputId": "29d62eab-391f-4f85-8409-39d8027ead3d",
        "colab": {
          "base_uri": "https://localhost:8080/",
          "height": 34
        }
      },
      "source": [
        "# to see the column labels\n",
        "dir(svm_data)"
      ],
      "execution_count": 14,
      "outputs": [
        {
          "output_type": "execute_result",
          "data": {
            "text/plain": [
              "['DESCR', 'data', 'feature_names', 'filename', 'target', 'target_names']"
            ]
          },
          "metadata": {
            "tags": []
          },
          "execution_count": 14
        }
      ]
    },
    {
      "cell_type": "code",
      "metadata": {
        "id": "15dHXysb76nb",
        "colab_type": "code",
        "colab": {}
      },
      "source": [
        "# storing the data of features of the petal in features and name of the type of iris flower in the variable say labels\n",
        "features  = svm_data.data\n",
        "labels = svm_data.target"
      ],
      "execution_count": 0,
      "outputs": []
    },
    {
      "cell_type": "code",
      "metadata": {
        "id": "mtMgm2xJ8TKJ",
        "colab_type": "code",
        "colab": {}
      },
      "source": [
        "# spliting the data into train and test \n",
        "from sklearn.model_selection import train_test_split\n",
        "train_x , test_x,train_y,test_y = train_test_split(features,labels, train_size =0.6)"
      ],
      "execution_count": 0,
      "outputs": []
    },
    {
      "cell_type": "code",
      "metadata": {
        "id": "NesUY_sh8p2R",
        "colab_type": "code",
        "colab": {
          "base_uri": "https://localhost:8080/",
          "height": 72
        },
        "outputId": "af229260-3462-469e-e2de-0c3f4fc37f21"
      },
      "source": [
        "# importing svc from the sklearn.svm module\n",
        "from sklearn.svm import SVC \n",
        "# calling the function and training the  algorithm\n",
        "svm_algo = SVC()\n",
        "svm_train = svm_algo.fit(train_x,train_y)\n",
        "\n"
      ],
      "execution_count": 23,
      "outputs": [
        {
          "output_type": "stream",
          "text": [
            "/usr/local/lib/python3.6/dist-packages/sklearn/svm/base.py:193: FutureWarning: The default value of gamma will change from 'auto' to 'scale' in version 0.22 to account better for unscaled features. Set gamma explicitly to 'auto' or 'scale' to avoid this warning.\n",
            "  \"avoid this warning.\", FutureWarning)\n"
          ],
          "name": "stderr"
        }
      ]
    },
    {
      "cell_type": "code",
      "metadata": {
        "id": "x1DOnUAb8vcm",
        "colab_type": "code",
        "colab": {}
      },
      "source": [
        "# you can also change the kernel to linear of you are using 2-D data \n",
        "# svm_algo = SVC(kernel='linear')"
      ],
      "execution_count": 0,
      "outputs": []
    },
    {
      "cell_type": "code",
      "metadata": {
        "id": "8zcj1qUXbBtc",
        "colab_type": "code",
        "colab": {}
      },
      "source": [
        "# predicting the values\n",
        "svm_predict = svm_algo.predict(test_x)"
      ],
      "execution_count": 0,
      "outputs": []
    },
    {
      "cell_type": "code",
      "metadata": {
        "id": "YomgxBiE9UXZ",
        "colab_type": "code",
        "colab": {
          "base_uri": "https://localhost:8080/",
          "height": 34
        },
        "outputId": "e2679711-10c3-4e7d-9485-6e37d3732ba0"
      },
      "source": [
        "# checking the accuracy \n",
        "from sklearn.metrics import accuracy_score\n",
        "accuracy_score(test_y,svm_predict)"
      ],
      "execution_count": 27,
      "outputs": [
        {
          "output_type": "execute_result",
          "data": {
            "text/plain": [
              "0.9666666666666667"
            ]
          },
          "metadata": {
            "tags": []
          },
          "execution_count": 27
        }
      ]
    },
    {
      "cell_type": "code",
      "metadata": {
        "id": "_CLGmeDk9rIT",
        "colab_type": "code",
        "colab": {
          "base_uri": "https://localhost:8080/",
          "height": 69
        },
        "outputId": "d9a96cc5-c500-41f2-ea3a-638464855e42"
      },
      "source": [
        "# checking for the confusion matrix\n",
        "from sklearn.metrics import confusion_matrix\n",
        "confusion_matrix(test_y,svm_predict)"
      ],
      "execution_count": 31,
      "outputs": [
        {
          "output_type": "execute_result",
          "data": {
            "text/plain": [
              "array([[22,  0,  0],\n",
              "       [ 0, 19,  1],\n",
              "       [ 0,  1, 17]])"
            ]
          },
          "metadata": {
            "tags": []
          },
          "execution_count": 31
        }
      ]
    }
  ]
}